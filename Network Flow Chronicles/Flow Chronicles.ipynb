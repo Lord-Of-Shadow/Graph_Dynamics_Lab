{
 "cells": [
  {
   "cell_type": "markdown",
   "metadata": {},
   "source": [
    "# Homework  <1>"
   ]
  },
  {
   "cell_type": "code",
   "execution_count": 1,
   "metadata": {},
   "outputs": [],
   "source": [
    "import networkx as nx\n",
    "import numpy as np\n",
    "import matplotlib.pyplot as plt\n",
    "import cvxpy as cp\n",
    "import scipy.io\n",
    "import scipy"
   ]
  },
  {
   "cell_type": "markdown",
   "metadata": {},
   "source": [
    "## Exercise 1\n",
    "Based on Figure 1, the graph will be as below:"
   ]
  },
  {
   "cell_type": "code",
   "execution_count": 2,
   "metadata": {},
   "outputs": [
    {
     "data": {
      "image/png": "[encoded data removed]",
      "text/plain": [
       "<Figure size 640x480 with 1 Axes>"
      ]
     },
     "metadata": {},
     "output_type": "display_data"
    }
   ],
   "source": [
    "def create_graph():\n",
    "    G = nx.DiGraph()\n",
    "    G.add_nodes_from(['o','a','b','c','d'])\n",
    "    edges = [\n",
    "        ('o', 'a', {'capacity': 3, 'name': 'e1'}),\n",
    "        ('o', 'b', {'capacity': 3, 'name': 'e3'}),\n",
    "        ('a', 'd', {'capacity': 2, 'name': 'e2'}),\n",
    "        ('b', 'd', {'capacity': 2, 'name': 'e4'}),\n",
    "        ('b', 'c', {'capacity': 3, 'name': 'e5'}),\n",
    "        ('c', 'd', {'capacity': 1, 'name': 'e6'})\n",
    "    ]\n",
    "    G.add_edges_from(edges)\n",
    "    return G\n",
    "\n",
    "def visualize_graph(G):\n",
    "    positions = {'o': [-1, 0], 'a': [0, 1], 'b': [0, 0], 'c': [0, -1], 'd': [1, 0]}\n",
    "    edge_labels = nx.get_edge_attributes(G, 'capacity')\n",
    "    nx.draw_networkx_edge_labels(G, pos=positions, edge_labels=edge_labels)\n",
    "    nx.draw(G, positions, with_labels=True)\n",
    "    plt.show()\n",
    "\n",
    "G = create_graph()\n",
    "visualize_graph(G)"
   ]
  },
  {
   "cell_type": "markdown",
   "metadata": {},
   "source": [
    "### Exercise 1 >> Part a"
   ]
  },
  {
   "cell_type": "markdown",
   "metadata": {},
   "source": [
    "\n",
    "Graph G has two minimum cuts with  5 capacity:\n",
    "1. ({'o', 'a'}, {'c', 'b', 'd'})\n",
    "2. ({'c', 'o', 'b', 'a'}, {'d'})\n",
    "\n",
    "Our method chooses the second one."
   ]
  },
  {
   "cell_type": "code",
   "execution_count": 3,
   "metadata": {},
   "outputs": [
    {
     "name": "stdout",
     "output_type": "stream",
     "text": [
      "\"Capacity\" of Minimum Cut: 5\n",
      "\"Partitions\" of Minimum Cut: ({'o', 'b', 'a', 'c'}, {'d'})\n"
     ]
    }
   ],
   "source": [
    "def find_minimum_cut(G, source, target):\n",
    "    capacity, partitions = nx.algorithms.flow.minimum_cut(G, source, target)\n",
    "    print(f'\"Capacity\" of Minimum Cut: {capacity}')\n",
    "    print(f'\"Partitions\" of Minimum Cut: {partitions}')\n",
    "\n",
    "find_minimum_cut(G, 'o', 'd')"
   ]
  },
  {
   "cell_type": "markdown",
   "metadata": {},
   "source": [
    "### Exercise 1 >> Part b"
   ]
  },
  {
   "cell_type": "markdown",
   "metadata": {},
   "source": [
    "First maximum flow must calculated."
   ]
  },
  {
   "cell_type": "code",
   "execution_count": 4,
   "metadata": {},
   "outputs": [
    {
     "name": "stdout",
     "output_type": "stream",
     "text": [
      "Maximum Flow: 5\n",
      "List of Flows: {'o': {'a': 2, 'b': 3}, 'a': {'d': 2}, 'b': {'d': 2, 'c': 1}, 'c': {'d': 1}, 'd': {}}\n"
     ]
    }
   ],
   "source": [
    "def calculate_max_flow(G, source, target):\n",
    "    max_flow, flows = nx.algorithms.flow.maximum_flow(G, source, target)\n",
    "    print(f'Maximum Flow: {max_flow}\\nList of Flows: {flows}')\n",
    "    return max_flow, flows\n",
    "\n",
    "max_flow, flows = calculate_max_flow(G, 'o', 'd')"
   ]
  },
  {
   "cell_type": "markdown",
   "metadata": {},
   "source": [
    "After calculating maximum flow, edges with unused capacity and the total capacity that can be removed (Case 1), and edges with zero flow (Case 2) must identified."
   ]
  },
  {
   "cell_type": "code",
   "execution_count": 5,
   "metadata": {},
   "outputs": [
    {
     "name": "stdout",
     "output_type": "stream",
     "text": [
      "Edges with unused capacity:[('o', 'a', 1), ('b', 'c', 2)]\n",
      "Total unused capacity that can be removed: 3\n"
     ]
    }
   ],
   "source": [
    "# Case 1 \n",
    "unused_capacity_edges = []      \n",
    "total_unused_capacity = 0 \n",
    "  \n",
    "for i, j, data in G.edges(data=True):             \n",
    "    flow = flows[i][j]\n",
    "    initial_capacity = data['capacity']\n",
    "    unused_capacity = initial_capacity - flow\n",
    "    if unused_capacity > 0:\n",
    "        unused_capacity_edges.append((i, j, unused_capacity))\n",
    "        total_unused_capacity += unused_capacity\n",
    "\n",
    "print(f'Edges with unused capacity:{unused_capacity_edges}')   \n",
    "print(f'Total unused capacity that can be removed: {total_unused_capacity}')"
   ]
  },
  {
   "cell_type": "code",
   "execution_count": 6,
   "metadata": {},
   "outputs": [
    {
     "name": "stdout",
     "output_type": "stream",
     "text": [
      "Edges with no flow: []\n",
      "No edges can be removed\n"
     ]
    }
   ],
   "source": [
    "# Case 2\n",
    "no_flow_edges = [(i, j) for i, j, data in G.edges(data=True) if flows[i][j] == 0]    \n",
    "\n",
    "print(f'Edges with no flow: {no_flow_edges}')\n",
    "if not no_flow_edges:\n",
    "    print('No edges can be removed')"
   ]
  },
  {
   "cell_type": "markdown",
   "metadata": {},
   "source": [
    "### Exercise 1 >> Part c\n",
    "\n",
    "Distribution x > 0 extra units of capacity in order to maximize the throughput that can be sent from o to d."
   ]
  },
  {
   "cell_type": "code",
   "execution_count": 7,
   "metadata": {},
   "outputs": [
    {
     "name": "stdout",
     "output_type": "stream",
     "text": [
      "\n",
      "Step 0:\n",
      "Maximum Flow: 5\n",
      "List of Flows: {'o': {'a': 2, 'b': 3}, 'a': {'d': 2}, 'b': {'d': 2, 'c': 1}, 'c': {'d': 1}, 'd': {}}\n",
      "\n",
      "Step 1:\n",
      "Maximum Flow: 6\n",
      "List of Flows: {'o': {'a': 3, 'b': 3}, 'a': {'d': 3}, 'b': {'d': 2, 'c': 1}, 'c': {'d': 1}, 'd': {}}\n",
      "Added 1 capacity to edge a->d\n",
      "\n",
      "Step 2:\n",
      "Maximum Flow: 6\n",
      "List of Flows: {'o': {'a': 3, 'b': 3}, 'a': {'d': 3}, 'b': {'d': 2, 'c': 1}, 'c': {'d': 1}, 'd': {}}\n",
      "Added 2 capacity to edge a->d\n",
      "\n",
      "Step 3:\n",
      "Maximum Flow: 7\n",
      "List of Flows: {'o': {'a': 4, 'b': 3}, 'a': {'d': 4}, 'b': {'d': 2, 'c': 1}, 'c': {'d': 1}, 'd': {}}\n",
      "Added 2 capacity to edge a->d\n",
      "Added 1 capacity to edge o->a\n",
      "\n",
      "Step 4:\n",
      "Maximum Flow: 7\n",
      "List of Flows: {'o': {'a': 4, 'b': 3}, 'a': {'d': 4}, 'b': {'d': 2, 'c': 1}, 'c': {'d': 1}, 'd': {}}\n",
      "Added 3 capacity to edge a->d\n",
      "Added 1 capacity to edge o->a\n",
      "\n",
      "Step 5:\n",
      "Maximum Flow: 8\n",
      "List of Flows: {'o': {'a': 5, 'b': 3}, 'a': {'d': 5}, 'b': {'d': 2, 'c': 1}, 'c': {'d': 1}, 'd': {}}\n",
      "Added 3 capacity to edge a->d\n",
      "Added 2 capacity to edge o->a\n",
      "\n",
      "Step 6:\n",
      "Maximum Flow: 8\n",
      "List of Flows: {'o': {'a': 5, 'b': 3}, 'a': {'d': 5}, 'b': {'d': 2, 'c': 1}, 'c': {'d': 1}, 'd': {}}\n",
      "Added 4 capacity to edge a->d\n",
      "Added 2 capacity to edge o->a\n",
      "\n",
      "Step 7:\n",
      "Maximum Flow: 9\n",
      "List of Flows: {'o': {'a': 6, 'b': 3}, 'a': {'d': 6}, 'b': {'d': 2, 'c': 1}, 'c': {'d': 1}, 'd': {}}\n",
      "Added 4 capacity to edge a->d\n",
      "Added 3 capacity to edge o->a\n",
      "\n",
      "Step 8:\n",
      "Maximum Flow: 9\n",
      "List of Flows: {'o': {'a': 6, 'b': 3}, 'a': {'d': 6}, 'b': {'d': 2, 'c': 1}, 'c': {'d': 1}, 'd': {}}\n",
      "Added 5 capacity to edge a->d\n",
      "Added 3 capacity to edge o->a\n",
      "\n",
      "Step 9:\n",
      "Maximum Flow: 10\n",
      "List of Flows: {'o': {'a': 7, 'b': 3}, 'a': {'d': 7}, 'b': {'d': 2, 'c': 1}, 'c': {'d': 1}, 'd': {}}\n",
      "Added 5 capacity to edge a->d\n",
      "Added 4 capacity to edge o->a\n",
      "\n",
      "Step 10:\n",
      "Maximum Flow: 10\n",
      "List of Flows: {'o': {'a': 7, 'b': 3}, 'a': {'d': 7}, 'b': {'d': 2, 'c': 1}, 'c': {'d': 1}, 'd': {}}\n",
      "Added 6 capacity to edge a->d\n",
      "Added 4 capacity to edge o->a\n"
     ]
    },
    {
     "data": {
      "image/png": "[encoded data removed]",
      "text/plain": [
       "<Figure size 640x480 with 1 Axes>"
      ]
     },
     "metadata": {},
     "output_type": "display_data"
    }
   ],
   "source": [
    "def distribute_extra_capacity_and_plot(G, max_extra_capacity):\n",
    "    max_throughputs = []\n",
    "\n",
    "    for extra_capacity in range(max_extra_capacity + 1):\n",
    "        print(f'\\nStep {extra_capacity}:')\n",
    "        G_new = G.copy()\n",
    "        added_capacities = {}\n",
    "\n",
    "        for _ in range(extra_capacity):\n",
    "            min_cut_value, (partition1, partition2) = nx.minimum_cut(G_new, 'o', 'd')\n",
    "            linking_edges = [(u, v) for u, v in G_new.edges() if (u in partition1 and v in partition2) or (u in partition2 and v in partition1)]\n",
    "            if linking_edges:\n",
    "                edge_to_increment = linking_edges[0]\n",
    "                if edge_to_increment in added_capacities:\n",
    "                    added_capacities[edge_to_increment] += 1\n",
    "                else:\n",
    "                    added_capacities[edge_to_increment] = 1\n",
    "                G_new[edge_to_increment[0]][edge_to_increment[1]]['capacity'] += 1\n",
    "\n",
    "        max_flow, flows = calculate_max_flow(G_new, 'o', 'd')\n",
    "        max_throughputs.append(max_flow)\n",
    "        \n",
    "        for edge, added_capacity in added_capacities.items():\n",
    "            print(f'Added {added_capacity} capacity to edge {edge[0]}->{edge[1]}')\n",
    "\n",
    "\n",
    "    # Plot the maximum throughput as a function of extra capacity\n",
    "    plt.figure()\n",
    "    plt.plot(range(max_extra_capacity + 1), max_throughputs, marker='o')\n",
    "    plt.xlabel('Extra Capacity Units')\n",
    "    plt.ylabel('Maximum Throughput')\n",
    "    plt.title('Maximum Throughput vs. Extra Capacity Units')\n",
    "    plt.grid(True)\n",
    "    plt.show()\n",
    "\n",
    "# Define the maximum extra capacity to test\n",
    "max_extra_capacity = 10\n",
    "\n",
    "distribute_extra_capacity_and_plot(G, max_extra_capacity)"
   ]
  },
  {
   "cell_type": "markdown",
   "metadata": {},
   "source": [
    "## Exercise 2\n",
    "\n",
    "There are a set of people {p1,p2,p3,p4} and a set of books {b1,b2,b3,b4}. The interested of persons toward books are like below:\n",
    "\n",
    "p1 →{b1,b2}, p2 →{b2,b3}, p3 →{b1,b4}, p4 →{b1,b2,b4}"
   ]
  },
  {
   "cell_type": "code",
   "execution_count": 8,
   "metadata": {},
   "outputs": [
    {
     "data": {
      "image/png": "[encoded data removed]",
      "text/plain": [
       "<Figure size 640x480 with 1 Axes>"
      ]
     },
     "metadata": {},
     "output_type": "display_data"
    }
   ],
   "source": [
    "N = nx.DiGraph()\n",
    "N.add_edges_from([('p1','b1'), ('p1','b2'), ('p2','b2'), ('p2','b3'), ('p3','b1'), ('p3','b4'),('p4','b1'), ('p4','b2'), ('p4','b4')])\n",
    "\n",
    "position = {'p1':[-1,2], 'p2':[-1,1], 'p3':[-1,0], 'p4':[-1,-1], 'b1':[1,2], 'b2':[1,1], 'b3':[1,0], 'b4':[1,-1]}\n",
    "\n",
    "node_colors = [\n",
    "    'blue' if node.startswith('p') else \n",
    "    'red' if node.startswith('b') else \n",
    "    'green'\n",
    "    for node in N.nodes()\n",
    "]\n",
    "nx.draw(N, position, with_labels=True, node_color=node_colors)\n",
    "plt.show()"
   ]
  },
  {
   "cell_type": "markdown",
   "metadata": {},
   "source": [
    "### Exercise 2 >> Part a\n",
    "\n",
    "Exploiting max-flow problems to find a perfect matching."
   ]
  },
  {
   "cell_type": "code",
   "execution_count": 9,
   "metadata": {},
   "outputs": [
    {
     "name": "stdout",
     "output_type": "stream",
     "text": [
      "Best Matches: [('p1', 'b2'), ('p2', 'b3'), ('p3', 'b1'), ('p4', 'b4')]\n",
      "(Maximum flow value): 4\n"
     ]
    },
    {
     "data": {
      "image/png": "[encoded data removed]",
      "text/plain": [
       "<Figure size 640x480 with 1 Axes>"
      ]
     },
     "metadata": {},
     "output_type": "display_data"
    }
   ],
   "source": [
    "N = nx.DiGraph()\n",
    "N.add_edges_from([\n",
    "        ('p1', 'b1', {'capacity': 1}), ('p1', 'b2', {'capacity': 1}),\n",
    "        ('p2', 'b2', {'capacity': 1}), ('p2', 'b3', {'capacity': 1}),\n",
    "        ('p3', 'b1', {'capacity': 1}), ('p3', 'b4', {'capacity': 1}),\n",
    "        ('p4', 'b1', {'capacity': 1}), ('p4', 'b2', {'capacity': 1}), \n",
    "        ('p4', 'b4', {'capacity': 1}),\n",
    "        ('s', 'p1', {'capacity': 1}), ('s', 'p2', {'capacity': 1}),      # 's' is source node.\n",
    "        ('s', 'p3', {'capacity': 1}), ('s', 'p4', {'capacity': 1}),\n",
    "        ('b1', 'd', {'capacity': 1}), ('b2', 'd', {'capacity': 1}),      # 'd' is destination node.\n",
    "        ('b3', 'd', {'capacity': 1}), ('b4', 'd', {'capacity': 1})\n",
    "    ])\n",
    "\n",
    "def visualize_graph(N, edge_colors=None, show_labels=False):\n",
    "    position = {\n",
    "        'p1': [-1, 2], 'p2': [-1, 1], 'p3': [-1, 0], 'p4': [-1, -1], \n",
    "        'b1': [1, 2], 'b2': [1, 1], 'b3': [1, 0], 'b4': [1, -1],\n",
    "        's': [-2, 0.5], 'd': [2, 0.5]\n",
    "    }\n",
    "    if edge_colors is None:\n",
    "        edge_colors = ['black'] * len(N.edges)\n",
    "    node_colors = ['blue' if node.startswith('p') else 'red' if node.startswith('b') else 'green' for node in N.nodes()]\n",
    "    nx.draw(N, position, with_labels=True, edge_color=edge_colors, node_color=node_colors)\n",
    "    \n",
    "    if show_labels:\n",
    "        labels = nx.get_edge_attributes(N, 'capacity')\n",
    "        nx.draw_networkx_edge_labels(N, position, edge_labels=labels)\n",
    "    \n",
    "    plt.show()\n",
    "\n",
    "\n",
    "max_flow_value_N, flows = nx.algorithms.flow.maximum_flow(N, 's', 'd')\n",
    "\n",
    "# Finding the edges with flow = 1 (matched pairs)\n",
    "list_of_edges = []\n",
    "edge_colors = []\n",
    "for firstNode in flows:\n",
    "    for secondNode, flow in flows[firstNode].items():\n",
    "        if flow == 1 and firstNode != 's' and secondNode != 'd': \n",
    "            list_of_edges.append((firstNode, secondNode))\n",
    "            edge_colors.append('red') \n",
    "        else:\n",
    "            edge_colors.append('black')\n",
    "\n",
    "print(f'Best Matches: {list_of_edges}')\n",
    "print(f'(Maximum flow value): {max_flow_value_N}')\n",
    "\n",
    "visualize_graph(N, edge_colors, show_labels=False)\n",
    "\n"
   ]
  },
  {
   "cell_type": "markdown",
   "metadata": {},
   "source": [
    "### Exercise 2 >> Part b\n",
    "\n",
    "Assume now that there are multiple copies books, and the distribution of the number of\n",
    "copies is (2; 3; 2; 2). Each person can take an arbitrary number of di\u000berent books. Exploit\n",
    "the analogy with max-\n",
    "ow problems to establish how many books of interest can be assigned\n",
    "in total."
   ]
  },
  {
   "cell_type": "code",
   "execution_count": 10,
   "metadata": {},
   "outputs": [
    {
     "name": "stdout",
     "output_type": "stream",
     "text": [
      "Up to 8 books of interest can be assigned (Maximum flow value).\n"
     ]
    },
    {
     "data": {
      "image/png": "[encoded data removed]",
      "text/plain": [
       "<Figure size 640x480 with 1 Axes>"
      ]
     },
     "metadata": {},
     "output_type": "display_data"
    }
   ],
   "source": [
    "N_new = nx.DiGraph()\n",
    "N_new.add_edges_from([\n",
    "        ('p1', 'b1', {'capacity': 1}), ('p1', 'b2', {'capacity': 1}),\n",
    "        ('p2', 'b2', {'capacity': 1}), ('p2', 'b3', {'capacity': 1}),\n",
    "        ('p3', 'b1', {'capacity': 1}), ('p3', 'b4', {'capacity': 1}),\n",
    "        ('p4', 'b1', {'capacity': 1}), ('p4', 'b2', {'capacity': 1}), \n",
    "        ('p4', 'b4', {'capacity': 1}),\n",
    "        ('s', 'p1', {'capacity': float('inf')}), ('s', 'p2', {'capacity': float('inf')}),\n",
    "        ('s', 'p3', {'capacity': float('inf')}), ('s', 'p4', {'capacity': float('inf')}),\n",
    "        ('b1', 'd', {'capacity': 2}), ('b2', 'd', {'capacity': 3}),\n",
    "        ('b3', 'd', {'capacity': 2}), ('b4', 'd', {'capacity': 2})\n",
    "    ])\n",
    "\n",
    "\n",
    "max_flow_value_N_new, flows = nx.algorithms.flow.maximum_flow(N_new,'s','d')\n",
    "print(f'Up to {max_flow_value_N_new} books of interest can be assigned (Maximum flow value).')\n",
    "\n",
    "visualize_graph(N_new, show_labels=True)"
   ]
  },
  {
   "cell_type": "markdown",
   "metadata": {},
   "source": [
    "### Exercise 2 >> Part c"
   ]
  },
  {
   "cell_type": "markdown",
   "metadata": {},
   "source": [
    "Suppose that the library can sell a copy of a book and buy a copy of another book. Which\n",
    "books should be sold and bought to maximize the number of assigned books?\n",
    "\n",
    "It's important to recognize that if we have surplus copies of a book, we can sell them, and if we have a deficit, we should buy additional copies. Once these adjustments are made, the maximum flow value will be '9'."
   ]
  },
  {
   "cell_type": "code",
   "execution_count": 11,
   "metadata": {},
   "outputs": [
    {
     "name": "stdout",
     "output_type": "stream",
     "text": [
      "Sold Item: 1 of b1 book.\n",
      "Bought Item: 1 of b3 book.\n"
     ]
    }
   ],
   "source": [
    "for node in ['b1', 'b2', 'b3', 'b4', 'd']:\n",
    "    in_flow = sum(flow for u, v, flow in N_new.in_edges(node, data='capacity') if 'capacity' in N_new[u][v])\n",
    "    out_flow = sum(flow for u, v, flow in N_new.out_edges(node, data='capacity') if 'capacity' in N_new[u][v])\n",
    "\n",
    "    difference = in_flow - out_flow\n",
    "    if node in ['b1', 'b2', 'b3', 'b4']:\n",
    "        if difference > 0:\n",
    "            print(f'Sold Item: {abs(difference)} of {node} book.')\n",
    "        elif difference < 0:\n",
    "            print(f'Bought Item: {abs(difference)} of {node} book.')"
   ]
  },
  {
   "cell_type": "markdown",
   "metadata": {},
   "source": [
    "# Exercise 3"
   ]
  },
  {
   "cell_type": "markdown",
   "metadata": {},
   "source": [
    "With respect to highway network in Los Angeles city;"
   ]
  },
  {
   "cell_type": "code",
   "execution_count": 2,
   "metadata": {},
   "outputs": [
    {
     "name": "stdout",
     "output_type": "stream",
     "text": [
      "Edges starting from node 1: [(1, 2), (1, 6)]\n",
      "Edges starting from node 2: [(2, 3), (2, 7)]\n",
      "Edges starting from node 3: [(3, 4), (3, 8), (3, 9)]\n",
      "Edges starting from node 4: [(4, 5), (4, 9)]\n",
      "Edges starting from node 5: [(5, 14)]\n",
      "Edges starting from node 6: [(6, 7), (6, 10)]\n",
      "Edges starting from node 7: [(7, 8), (7, 10)]\n",
      "Edges starting from node 8: [(8, 9), (8, 11)]\n",
      "Edges starting from node 9: [(9, 13), (9, 12)]\n",
      "Edges starting from node 13: [(13, 14), (13, 17)]\n",
      "Edges starting from node 14: [(14, 17)]\n",
      "Edges starting from node 10: [(10, 11), (10, 15)]\n",
      "Edges starting from node 11: [(11, 12), (11, 15)]\n",
      "Edges starting from node 15: [(15, 16)]\n",
      "Edges starting from node 12: [(12, 13)]\n",
      "Edges starting from node 16: [(16, 17)]\n"
     ]
    },
    {
     "data": {
      "image/png": "[encoded data removed]",
      "text/plain": [
       "<Figure size 640x480 with 1 Axes>"
      ]
     },
     "metadata": {},
     "output_type": "display_data"
    }
   ],
   "source": [
    "capacities = scipy.io.loadmat('capacities.mat').get('capacities').reshape(28, )\n",
    "traveltime = scipy.io.loadmat('traveltime.mat').get('traveltime').reshape(28, )\n",
    "flow_data = scipy.io.loadmat('flow.mat')                       # Will be utilized in part (c)\n",
    "traffic = scipy.io.loadmat('traffic.mat').get('traffic')\n",
    "\n",
    "Z = nx.DiGraph()\n",
    "\n",
    "for edge in range(28):       # Total number of edges are 28.\n",
    "    capacity = capacities[edge]\n",
    "    travtime = traveltime[edge]\n",
    "    for r in range(17):\n",
    "        if traffic[r][edge] == 1:\n",
    "            i = r\n",
    "        if traffic[r][edge] == -1:\n",
    "            j = r\n",
    "    Z.add_edges_from([(i + 1, j + 1)], capacity=capacity, traveltime=travtime)\n",
    "\n",
    "edges = list(Z.edges())\n",
    "edges_by_start_node = {}\n",
    "\n",
    "for edge in edges:\n",
    "    start_node = edge[0]\n",
    "    if start_node not in edges_by_start_node:\n",
    "        edges_by_start_node[start_node] = []\n",
    "    edges_by_start_node[start_node].append(edge)\n",
    "\n",
    "for start_node, edges in edges_by_start_node.items():\n",
    "    print(f\"Edges starting from node {start_node}: {edges}\")\n",
    "\n",
    "\n",
    "positions = {1: [-3.5, 2], 2: [-1, 2], 3: [0, 2], 4: [2, 2], 5: [4, 1.5],\n",
    "             6: [-3, 0], 7: [-1, 0], 8: [0, 0], 9: [1, 0.5], 10: [-1, -2],\n",
    "             11: [0, -2], 12: [1, -2], 13: [3, -2.5], 14: [4, -2.5], 15: [0, -3],\n",
    "             16: [1.5, -3.25], 17: [4, -3.5]}\n",
    "\n",
    "node_color = 'yellow'\n",
    "nx.draw(Z, positions, with_labels=True, node_color=node_color)\n",
    "plt.show()"
   ]
  },
  {
   "cell_type": "markdown",
   "metadata": {},
   "source": [
    "### Exercise 3 >> Part a"
   ]
  },
  {
   "cell_type": "markdown",
   "metadata": {},
   "source": [
    "Identifing the shortest path between node 1 and node 17. This corresponds to the fastest route (the path with the shortest travel time) in an unoccupied network."
   ]
  },
  {
   "cell_type": "code",
   "execution_count": 3,
   "metadata": {},
   "outputs": [
    {
     "name": "stdout",
     "output_type": "stream",
     "text": [
      "Shortest path from Santa Monica (node number 1) to the Santa Ana (node number 17) is:  [1, 2, 3, 9, 13, 17]\n"
     ]
    }
   ],
   "source": [
    "shortest_path = nx.shortest_path(Z, 1, 17,'traveltime')\n",
    "print('Shortest path from Santa Monica (node number 1) to the Santa Ana (node number 17) is: ', shortest_path)"
   ]
  },
  {
   "cell_type": "markdown",
   "metadata": {},
   "source": [
    "### Exercise 3 >> Part b"
   ]
  },
  {
   "cell_type": "markdown",
   "metadata": {},
   "source": [
    "Finding the maximum flow between node 1 and 17."
   ]
  },
  {
   "cell_type": "code",
   "execution_count": 4,
   "metadata": {},
   "outputs": [
    {
     "name": "stdout",
     "output_type": "stream",
     "text": [
      "Maximum flow from node (1) to (17):  22448\n",
      "Flow of the maximum from node (1) to (17):\n",
      "1: {2: 8741, 6: 13707}\n",
      "2: {3: 8741, 7: 0}\n",
      "3: {4: 0, 8: 0, 9: 8741}\n",
      "4: {5: 0, 9: 0}\n",
      "5: {14: 0}\n",
      "6: {7: 4624, 10: 9083}\n",
      "7: {8: 4624, 10: 0}\n",
      "8: {9: 4624, 11: 0}\n",
      "9: {13: 6297, 12: 7068}\n",
      "13: {14: 3835, 17: 10355}\n",
      "14: {17: 3835}\n",
      "10: {11: 825, 15: 8258}\n",
      "11: {12: 825, 15: 0}\n",
      "15: {16: 8258}\n",
      "12: {13: 7893}\n",
      "17: {}\n",
      "16: {17: 8258}\n"
     ]
    }
   ],
   "source": [
    "max_flow_value, flows = nx.algorithms.flow.maximum_flow(Z, 1, 17)\n",
    "print('Maximum flow from node (1) to (17): ', max_flow_value)\n",
    "print('Flow of the maximum from node (1) to (17):')\n",
    "for node, flow in flows.items():\n",
    "    print(f'{node}: {flow}')"
   ]
  },
  {
   "cell_type": "markdown",
   "metadata": {},
   "source": [
    "### Exercise 3 >> Part c"
   ]
  },
  {
   "cell_type": "markdown",
   "metadata": {},
   "source": [
    "Computing the external inflow $\\nu$ satisfying Bf = $\\nu$ with respect to the flow vector in flow.mat. \n",
    "\n",
    "In the following, we assume that the exogenous inflow is zero in all the nodes except for node 1, for which $\\nu_{1}$ has the same value computed in the point (c), and node 17, for which $\\nu_{17}$ = -$\\nu_{1}$."
   ]
  },
  {
   "cell_type": "code",
   "execution_count": 5,
   "metadata": {},
   "outputs": [
    {
     "name": "stdout",
     "output_type": "stream",
     "text": [
      "Optimal f:\n",
      "[1., 1., 0., 0., 0., 0., 0., 0., 1., 0., 0., 1., 0., 0., 0., 0., 0., 0.,\n",
      " 0., 0., 0., 0., 0., 0., 1., 0., 0., 0.]\n",
      "External Inflow:\n",
      "[ 16282,   9094,  19448,   4957,   -746,   4768,    413,     -2,  -5671,\n",
      "   1169,     -5,  -7131,   -380,  -7412,  -7810,  -3430, -23544]\n"
     ]
    }
   ],
   "source": [
    "# Access and reshape the flow data\n",
    "flow = flow_data.get('flow').reshape(28, )\n",
    "\n",
    "np.set_printoptions(precision=2, suppress=True)\n",
    "\n",
    "number_edges = traffic.shape[1]\n",
    "\n",
    "exogenous_flow = np.array([1, 0, 0, 0, 0, 0, 0, 0, 0, 0, 0, 0, 0, 0, 0, 0, -1])\n",
    "\n",
    "l = np.array(traveltime)               # link length vector\n",
    "f = cp.Variable(number_edges)          # flow vector\n",
    "\n",
    "objective = cp.Minimize(l.T @ f)\n",
    "constraints = [exogenous_flow == traffic @ f, f >= 0]\n",
    "problem = cp.Problem(objective, constraints)\n",
    "\n",
    "optimal_cost = problem.solve()\n",
    "\n",
    "optimal_f_formatted = np.array2string(f.value, separator=', ', precision=2, suppress_small=True)\n",
    "print(f'Optimal f:\\n{optimal_f_formatted}')\n",
    "\n",
    "flow = np.array(flow).flatten()  \n",
    "\n",
    "external_inflow = traffic @ flow\n",
    "external_inflow_formatted = np.array2string(external_inflow, separator=', ', precision=2, suppress_small=True)\n",
    "print(f'External Inflow:\\n{external_inflow_formatted}')"
   ]
  },
  {
   "cell_type": "markdown",
   "metadata": {},
   "source": [
    "### Exercise 3 >> Part d"
   ]
  },
  {
   "cell_type": "markdown",
   "metadata": {},
   "source": [
    "Find the social optimum $f^∗$ with respect to the delays on the different links $\\tau_e$($f_e$). For this,\n",
    "minimize the cost function\n",
    "\n",
    "\n",
    "$$\n",
    "\\sum_{e\\in E}f_e(\\tau_e(f_e) = \\sum_{e\\in E} \\frac {\\ f_e l_e }{1 - f_e / c_e}  = \\sum_{e\\in E} \\frac {\\ l_e c_e}{1 - f_e / c_e}\\, - l_e c_e\n",
    "$$\n",
    "\n",
    "subject to the flow constraints."
   ]
  },
  {
   "cell_type": "code",
   "execution_count": 6,
   "metadata": {},
   "outputs": [
    {
     "name": "stdout",
     "output_type": "stream",
     "text": [
      "Social Optimal flow:\n",
      "Flow 1: 6642.39\n",
      "Flow 2: 6059.08\n",
      "Flow 3: 3132.22\n",
      "Flow 4: 3132.21\n",
      "Flow 5: 10163.61\n",
      "Flow 6: 4638.53\n",
      "Flow 7: 3006.26\n",
      "Flow 8: 2542.68\n",
      "Flow 9: 3131.60\n",
      "Flow 10: 583.31\n",
      "Flow 11: 0.10\n",
      "Flow 12: 2926.76\n",
      "Flow 13: 0.01\n",
      "Flow 14: 3132.21\n",
      "Flow 15: 5525.07\n",
      "Flow 16: 2854.19\n",
      "Flow 17: 4886.47\n",
      "Flow 18: 2215.58\n",
      "Flow 19: 463.69\n",
      "Flow 20: 2337.85\n",
      "Flow 21: 3317.86\n",
      "Flow 22: 5655.72\n",
      "Flow 23: 2373.14\n",
      "Flow 24: 0.01\n",
      "Flow 25: 6414.17\n",
      "Flow 26: 5505.35\n",
      "Flow 27: 4886.48\n",
      "Flow 28: 4886.48\n",
      "\n",
      "Optimal Cost: 25943.6270\n"
     ]
    }
   ],
   "source": [
    "# Define exogenous inflow vector\n",
    "exogenous_flow = np.array([16806, 0, 0, 0, 0, 0, 0, 0, 0, 0, 0, 0, 0, 0, 0, 0, -16806])\n",
    "\n",
    "f = cp.Variable(number_edges)\n",
    "\n",
    "function = cp.sum(cp.multiply(traveltime * capacities, cp.inv_pos(1 - cp.multiply(f, 1 / capacities))) - traveltime * capacities)\n",
    "\n",
    "objective = cp.Minimize(function)\n",
    "constraints = [traffic @ f == exogenous_flow, f >= 0, f <= capacities]  # 0 ≤ fe < ce.\n",
    "problem = cp.Problem(objective, constraints)\n",
    "\n",
    "optimal_cost = problem.solve()\n",
    "\n",
    "optimal_flow = f.value\n",
    "\n",
    "print(\"Social Optimal flow:\")\n",
    "for i, value in enumerate(optimal_flow):\n",
    "    print(f\"Flow {i+1}: {value:.2f}\")\n",
    "\n",
    "print(f\"\\nOptimal Cost: {optimal_cost:.4f}\")"
   ]
  },
  {
   "cell_type": "markdown",
   "metadata": {},
   "source": [
    "### Exercise 3 >> Part e"
   ]
  },
  {
   "cell_type": "markdown",
   "metadata": {},
   "source": [
    "Finding the Wardrop equilibrium $f^0$, with using the below cost function\n",
    "\n",
    "$$\n",
    " \\sum_{e \\in \\mathcal{E}}\\int_0^{f_e} \\tau_e(s)~\\mathrm{d}s.\n",
    "$$\n"
   ]
  },
  {
   "cell_type": "code",
   "execution_count": 7,
   "metadata": {},
   "outputs": [
    {
     "name": "stdout",
     "output_type": "stream",
     "text": [
      "Wardrop Equilibrium Flow Vector:\n",
      "Flow 1: 6715.67\n",
      "Flow 2: 6715.67\n",
      "Flow 3: 2367.42\n",
      "Flow 4: 2367.42\n",
      "Flow 5: 10090.33\n",
      "Flow 6: 4645.39\n",
      "Flow 7: 2803.83\n",
      "Flow 8: 2283.58\n",
      "Flow 9: 3418.45\n",
      "Flow 10: 0.00\n",
      "Flow 11: 176.78\n",
      "Flow 12: 4171.47\n",
      "Flow 13: 0.00\n",
      "Flow 14: 2367.42\n",
      "Flow 15: 5444.95\n",
      "Flow 16: 2353.21\n",
      "Flow 17: 4933.30\n",
      "Flow 18: 1841.56\n",
      "Flow 19: 697.02\n",
      "Flow 20: 3036.60\n",
      "Flow 21: 3050.23\n",
      "Flow 22: 6086.83\n",
      "Flow 23: 2586.54\n",
      "Flow 24: 0.00\n",
      "Flow 25: 6918.73\n",
      "Flow 26: 4953.97\n",
      "Flow 27: 4933.30\n",
      "Flow 28: 4933.30\n"
     ]
    }
   ],
   "source": [
    "# Define f\n",
    "f = cp.Variable(number_edges)\n",
    "\n",
    "func = cp.sum(- cp.multiply(traveltime * capacities, cp.log(1 - (cp.multiply(f, 1 / capacities)))))\n",
    "\n",
    "objective = cp.Minimize(func) \n",
    "\n",
    "constraints = [traffic @ f == exogenous_flow, f >= 0, f <= capacities]\n",
    "problem = cp.Problem(objective, constraints) \n",
    "\n",
    "wardrop_cost = problem.solve() \n",
    "\n",
    "print(\"Wardrop Equilibrium Flow Vector:\")\n",
    "for i, value in enumerate(f.value):\n",
    "    print(f\"Flow {i + 1}: {value:.2f}\")"
   ]
  },
  {
   "cell_type": "markdown",
   "metadata": {},
   "source": [
    "### Exercise 3 >> Part f"
   ]
  },
  {
   "cell_type": "markdown",
   "metadata": {},
   "source": [
    "Introduce tolls, such that the toll on link $ e $ is $ \\omega_e = \\psi'_e(f^*) - \\tau_e(f^*) $. For the considered $ \\psi_e(f_e) $, $ \\omega_e = f^*_e \\tau'_e(f^*) $, where $ f^*_e $ is the flow at the system optimum. Now the delay on link $ e $ is given by $ \\tau_e(f_e) + \\omega_e $. Compute the new Wardrop equilibrium $ f(\\omega) $."
   ]
  },
  {
   "cell_type": "code",
   "execution_count": 8,
   "metadata": {},
   "outputs": [
    {
     "name": "stdout",
     "output_type": "stream",
     "text": [
      "Wardrop Equilibrium Flow Vector without tolls:\n",
      "Flow 1: 6715.67, Flow 2: 6715.67, Flow 3: 2367.42, Flow 4: 2367.42, Flow 5: 10090.33, Flow 6: 4645.39, Flow 7: 2803.83, Flow 8: 2283.58, Flow 9: 3418.45, Flow 10: 0.00, Flow 11: 176.78, Flow 12: 4171.47, Flow 13: 0.00, Flow 14: 2367.42, Flow 15: 5444.95, Flow 16: 2353.21, Flow 17: 4933.30, Flow 18: 1841.56, Flow 19: 697.02, Flow 20: 3036.60, Flow 21: 3050.23, Flow 22: 6086.83, Flow 23: 2586.54, Flow 24: 0.00, Flow 25: 6918.73, Flow 26: 4953.97, Flow 27: 4933.30, Flow 28: 4933.30\n",
      "\n",
      "Wardrop Cost without tolls: 26292.97\n",
      "Total Cost without tolls: 26292.97\n",
      "Optimal Cost without tolls: 25943.63\n",
      "Price of Anarchy (PoA) without tolls: 1.0134653613\n",
      "\n",
      "Wardrop Equilibrium Flow Vector with tolls:\n",
      "Flow 1: 6641.65, Flow 2: 6058.76, Flow 3: 3132.55, Flow 4: 3132.55, Flow 5: 10164.35, Flow 6: 4637.47, Flow 7: 3006.14, Flow 8: 2542.29, Flow 9: 3131.40, Flow 10: 582.89, Flow 11: 0.00, Flow 12: 2926.21, Flow 13: 0.00, Flow 14: 3132.55, Flow 15: 5526.88, Flow 16: 2854.70, Flow 17: 4886.41, Flow 18: 2214.23, Flow 19: 463.85, Flow 20: 2337.10, Flow 21: 3318.55, Flow 22: 5655.64, Flow 23: 2373.14, Flow 24: 0.00, Flow 25: 6413.90, Flow 26: 5505.69, Flow 27: 4886.41, Flow 28: 4886.41\n",
      "\n",
      "Wardrop Cost with tolls: 25943.62\n",
      "Total Cost with tolls: 25943.62\n",
      "Optimal Cost with tolls: 25943.63\n",
      "Price of Anarchy (PoA) with tolls: 0.9999998586\n"
     ]
    }
   ],
   "source": [
    "wardrop_vector = f.value\n",
    "\n",
    "print(\"Wardrop Equilibrium Flow Vector without tolls:\")\n",
    "wardrop_vector_str = \", \".join([f\"Flow {i + 1}: {value:.2f}\" for i, value in enumerate(wardrop_vector)])\n",
    "print(wardrop_vector_str)\n",
    "\n",
    "def cost(f):\n",
    "    tot = []\n",
    "    for i, value in enumerate(f):\n",
    "        tot.append(((traveltime[i] * capacities[i]) / (1 - (value / capacities[i]))) - traveltime[i] * capacities[i])\n",
    "    return sum(tot)\n",
    "\n",
    "wardrop_cost = cost(wardrop_vector) \n",
    "\n",
    "print(f\"\\nWardrop Cost without tolls: {wardrop_cost:.2f}\")\n",
    "\n",
    "PoA = wardrop_cost / optimal_cost\n",
    "\n",
    "print(f\"Total Cost without tolls: {wardrop_cost:.2f}\")\n",
    "print(f\"Optimal Cost without tolls: {optimal_cost:.2f}\")\n",
    "print(f\"Price of Anarchy (PoA) without tolls: {PoA:.10f}\")\n",
    "\n",
    "\n",
    "f = cp.Variable(number_edges)             # flow vector\n",
    "omega = []                                # omega vector\n",
    "\n",
    "for i, value in enumerate(optimal_flow):\n",
    "    omega.append(value * ((capacities[i] * traveltime[i]) / ((capacities[i] - value) ** 2)))\n",
    "\n",
    "# Define cost function with tolls\n",
    "func = cp.sum(cp.multiply(omega, f) - cp.multiply(capacities * traveltime, cp.log(1 - (cp.multiply(f, 1 / capacities)))))\n",
    "\n",
    "objective = cp.Minimize(func)\n",
    "constraints = [traffic @ f == exogenous_flow, f >= 0, f <= capacities]\n",
    "prob = cp.Problem(objective, constraints)\n",
    "\n",
    "result = prob.solve()\n",
    "war_vect = f.value\n",
    "\n",
    "print(\"\\nWardrop Equilibrium Flow Vector with tolls:\")\n",
    "war_vect_str = \", \".join([f\"Flow {i + 1}: {value:.2f}\" for i, value in enumerate(war_vect)])\n",
    "print(war_vect_str)\n",
    "\n",
    "wardrop_cost = cost(war_vect)\n",
    "\n",
    "print(f\"\\nWardrop Cost with tolls: {wardrop_cost:.2f}\")\n",
    "\n",
    "PoA = wardrop_cost / optimal_cost\n",
    "\n",
    "print(f\"Total Cost with tolls: {wardrop_cost:.2f}\")\n",
    "print(f\"Optimal Cost with tolls: {optimal_cost:.2f}\")\n",
    "print(f\"Price of Anarchy (PoA) with tolls: {PoA:.10f}\")"
   ]
  },
  {
   "cell_type": "markdown",
   "metadata": {},
   "source": [
    "### Exercise 3 >> Part g"
   ]
  },
  {
   "cell_type": "markdown",
   "metadata": {},
   "source": [
    "Instead of the total travel time, let the cost for the system be the total additional travel time compared to the total travel time in free flow, given by\n",
    "\n",
    "$$ \\psi_e(f_e) = f_e(\\tau_e(f_e) - l_e) $$\n",
    "\n",
    "subject to the flow constraints. Compute the system optimum $ f^* $ for the costs above. Construct a toll vector $ \\omega^* $ such that the Wardrop equilibrium $ f(\\omega^*) $ coincides with $ f^* $. Compute the new Wardrop equilibrium with the constructed tolls $ f(\\omega^*) $ to verify your result."
   ]
  },
  {
   "cell_type": "code",
   "execution_count": 12,
   "metadata": {},
   "outputs": [
    {
     "name": "stdout",
     "output_type": "stream",
     "text": [
      "Social optimal flow: [ 6653.26  5774.79  3419.67  3419.66 10152.74  4642.69  3105.79  2662.1\n",
      "  3009.1    878.47     0.01  2355.12     0.01  3419.66  5510.04  3043.63\n",
      "  4881.79  2415.38   443.7   2008.13  3487.32  5495.45  2203.84     0.\n",
      "  6300.7   5623.5   4881.79  4881.79]\n",
      "Optimal cost: 15095.513637826738\n",
      "Constructed tolls: [16806.     0.     0.     0.     0.     0. 16806.     0.     0. 16806.\n",
      "     0.    -0.     0.     0.     0.     0.     0.     0. 16806.     0.\n",
      "     0.     0.     0. 16806.     0.     0. 16806. 16806.]\n",
      "Wardrop equilibrium: [ 6730.88  6730.88  4786.17  4786.17 10075.12  4703.07  2659.16  2659.16\n",
      "  4250.07    -0.       0.01  1944.7      0.    4786.17  5372.05  7415.96\n",
      "     0.    2043.91    -0.     353.8   7415.96  7769.76  3140.13    -0.\n",
      "  8879.7   7926.3     -0.      -0.  ]\n",
      "Wardrop cost: 124371429.49951583\n",
      "Price of Anarchy: 8238.96638984596\n"
     ]
    }
   ],
   "source": [
    "number_edges = 28  \n",
    "\n",
    "exogenous_flow = np.array([16806, 0, 0, 0, 0, 0, 0, 0, 0, 0, 0, 0, 0, 0, 0, 0, -16806])\n",
    "\n",
    "f = cp.Variable(number_edges)\n",
    "\n",
    "func = cp.sum(cp.multiply(cp.multiply(traveltime, capacities), cp.inv_pos(1 - cp.multiply(f, 1 / capacities))) - cp.multiply(traveltime, capacities) - cp.multiply(traveltime, f))\n",
    "\n",
    "objective = cp.Minimize(func)\n",
    "constraints = [traffic @ f == exogenous_flow, f >= 0, f <= capacities]\n",
    "prob = cp.Problem(objective, constraints)\n",
    "\n",
    "optimal_cost = prob.solve()\n",
    "\n",
    "optimal_flow = f.value\n",
    "print(\"Social optimal flow:\", optimal_flow)\n",
    "print(\"Optimal cost:\", optimal_cost)\n",
    "\n",
    "w = cp.Variable(number_edges)\n",
    "\n",
    "integral = - cp.multiply(capacities * traveltime, cp.log(1 - (cp.multiply(optimal_flow, 1 / capacities)))) - cp.multiply(optimal_flow, traveltime) + cp.multiply(w, optimal_flow)\n",
    "func = cp.sum(integral)\n",
    "\n",
    "objective = cp.Minimize(func)\n",
    "constraints = [traffic @ w == exogenous_flow, w >= 0]\n",
    "prob = cp.Problem(objective, constraints)\n",
    "\n",
    "result_w = prob.solve()\n",
    "\n",
    "print(\"Constructed tolls:\", w.value)\n",
    "constr_tolls = w.value\n",
    "\n",
    "f_new = cp.Variable(number_edges)\n",
    "\n",
    "func = cp.sum(- cp.multiply(capacities * traveltime, cp.log(1 - (cp.multiply(f_new, 1 / capacities)))) - cp.multiply(f_new, traveltime) + cp.multiply(constr_tolls, f_new))\n",
    "\n",
    "objective = cp.Minimize(func)\n",
    "constraints = [traffic @ f_new == exogenous_flow, f_new >= 0, f_new <= capacities]\n",
    "prob = cp.Problem(objective, constraints)\n",
    "\n",
    "result_w = prob.solve()\n",
    "\n",
    "print(\"Wardrop equilibrium:\", f_new.value)\n",
    "\n",
    "if f_new.value is not None:\n",
    "    def cost2(f):\n",
    "        tot = []\n",
    "        for i, value in enumerate(f):\n",
    "            tot.append(((traveltime[i] * capacities[i]) / (1 - (value / capacities[i]))) - traveltime[i] * capacities[i] - traveltime[i] * value)\n",
    "        return sum(tot)\n",
    "\n",
    "    war_vect = f_new.value\n",
    "    wardrop_cost = cost2(war_vect)\n",
    "\n",
    "    print(\"Wardrop cost:\", wardrop_cost)\n",
    "    PoA = wardrop_cost / optimal_cost\n",
    "    print(\"Price of Anarchy:\", PoA)"
   ]
  }
 ],
 "metadata": {
  "kernelspec": {
   "display_name": ".venv",
   "language": "python",
   "name": "python3"
  },
  "language_info": {
   "codemirror_mode": {
    "name": "ipython",
    "version": 3
   },
   "file_extension": ".py",
   "mimetype": "text/x-python",
   "name": "python",
   "nbconvert_exporter": "python",
   "pygments_lexer": "ipython3",
   "version": "3.9.6"
  }
 },
 "nbformat": 4,
 "nbformat_minor": 2
}
